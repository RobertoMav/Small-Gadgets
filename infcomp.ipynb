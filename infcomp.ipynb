{
 "cells": [
  {
   "cell_type": "code",
   "execution_count": 27,
   "metadata": {},
   "outputs": [],
   "source": [
    "from scipy.special import beta, betainc, btdtr, btdtri"
   ]
  },
  {
   "cell_type": "code",
   "execution_count": 28,
   "metadata": {},
   "outputs": [
    {
     "name": "stdout",
     "output_type": "stream",
     "text": [
      "0.8541230576569033\n",
      "0.47824888175288627\n"
     ]
    }
   ],
   "source": [
    "print(btdtri(15, 7, 0.975))\n",
    "print(btdtri(15, 7, 0.025))"
   ]
  },
  {
   "cell_type": "code",
   "execution_count": 29,
   "metadata": {},
   "outputs": [],
   "source": [
    "from scipy import optimize\n",
    "\n",
    "def hdi(distribution, level=0.95):\n",
    "\t\"\"\"\n",
    "\tGet the highest density interval for the distribution, e.g. for a Bayesian posterior, the highest posterior density interval (HPD/HDI)\n",
    "\t\"\"\"\n",
    "\t\n",
    "\t# For a given lower limit, we can compute the corresponding 95% interval\n",
    "\tdef interval_width(lower):\n",
    "\t\tupper = distribution.ppf(distribution.cdf(lower) + level)\n",
    "\t\treturn upper - lower\n",
    "\t\n",
    "\t# Find such interval which has the smallest width\n",
    "\t# Use equal-tailed interval as initial guess\n",
    "\tinitial_guess = distribution.ppf((1-level)/2)\n",
    "\toptimize_result = optimize.minimize(interval_width, initial_guess)\n",
    "\t\n",
    "\tlower_limit = optimize_result.x[0]\n",
    "\twidth = optimize_result.fun\n",
    "\tupper_limit = lower_limit + width\n",
    "\t\n",
    "\treturn (lower_limit, upper_limit)"
   ]
  },
  {
   "cell_type": "code",
   "execution_count": 30,
   "metadata": {},
   "outputs": [
    {
     "name": "stdout",
     "output_type": "stream",
     "text": [
      "(386.1710665697412, nan)\n"
     ]
    }
   ],
   "source": [
    "from scipy import stats\n",
    "\n",
    "distribution = stats.beta(15, 7)\n",
    "\n",
    "print(hdi(distribution, 0.95))"
   ]
  },
  {
   "cell_type": "code",
   "execution_count": 31,
   "metadata": {},
   "outputs": [],
   "source": [
    "#Creating a quicksort algorithm\n",
    "def quicksort(array):\n",
    "    if len(array) <= 1:\n",
    "        return array\n",
    "    pivot = array[len(array) // 2]\n",
    "    left = [x for x in array if x < pivot]\n",
    "    middle = [x for x in array if x == pivot]\n",
    "    right = [x for x in array if x > pivot]\n",
    "    return quicksort(left) + middle + quicksort(right)\n"
   ]
  },
  {
   "cell_type": "code",
   "execution_count": 64,
   "metadata": {},
   "outputs": [],
   "source": [
    "import pandas as pd\n",
    "\n",
    "data = [[1, 1, 0], [0, 0, 1], [0, 0, 1], [0, 1, 0]]"
   ]
  },
  {
   "cell_type": "code",
   "execution_count": 65,
   "metadata": {},
   "outputs": [
    {
     "data": {
      "text/html": [
       "<div>\n",
       "<style scoped>\n",
       "    .dataframe tbody tr th:only-of-type {\n",
       "        vertical-align: middle;\n",
       "    }\n",
       "\n",
       "    .dataframe tbody tr th {\n",
       "        vertical-align: top;\n",
       "    }\n",
       "\n",
       "    .dataframe thead th {\n",
       "        text-align: right;\n",
       "    }\n",
       "</style>\n",
       "<table border=\"1\" class=\"dataframe\">\n",
       "  <thead>\n",
       "    <tr style=\"text-align: right;\">\n",
       "      <th></th>\n",
       "      <th>Label</th>\n",
       "      <th>Viagra</th>\n",
       "      <th>Meet</th>\n",
       "    </tr>\n",
       "  </thead>\n",
       "  <tbody>\n",
       "    <tr>\n",
       "      <th>0</th>\n",
       "      <td>1</td>\n",
       "      <td>1</td>\n",
       "      <td>0</td>\n",
       "    </tr>\n",
       "    <tr>\n",
       "      <th>1</th>\n",
       "      <td>0</td>\n",
       "      <td>0</td>\n",
       "      <td>1</td>\n",
       "    </tr>\n",
       "    <tr>\n",
       "      <th>2</th>\n",
       "      <td>0</td>\n",
       "      <td>0</td>\n",
       "      <td>1</td>\n",
       "    </tr>\n",
       "    <tr>\n",
       "      <th>3</th>\n",
       "      <td>0</td>\n",
       "      <td>1</td>\n",
       "      <td>0</td>\n",
       "    </tr>\n",
       "  </tbody>\n",
       "</table>\n",
       "</div>"
      ],
      "text/plain": [
       "   Label  Viagra  Meet\n",
       "0      1       1     0\n",
       "1      0       0     1\n",
       "2      0       0     1\n",
       "3      0       1     0"
      ]
     },
     "execution_count": 65,
     "metadata": {},
     "output_type": "execute_result"
    }
   ],
   "source": [
    "df = pd.DataFrame(data, columns=['Label', 'Viagra', 'Meet'])\n",
    "df"
   ]
  },
  {
   "cell_type": "code",
   "execution_count": 78,
   "metadata": {},
   "outputs": [
    {
     "name": "stdout",
     "output_type": "stream",
     "text": [
      "   Viagra  Meet\n",
      "0       1     0\n",
      "1       0     1\n",
      "2       0     1\n",
      "3       1     0\n",
      "0    1\n",
      "1    0\n",
      "2    0\n",
      "3    0\n",
      "Name: Label, dtype: int64\n"
     ]
    }
   ],
   "source": [
    "y = df['Label']\n",
    "x = df.drop(['Label'], axis=1)\n",
    "print(x)\n",
    "print(y)"
   ]
  },
  {
   "cell_type": "code",
   "execution_count": 80,
   "metadata": {},
   "outputs": [
    {
     "name": "stdout",
     "output_type": "stream",
     "text": [
      "[0]\n",
      "[[4.56756581e-10 1.00000000e+00]]\n"
     ]
    }
   ],
   "source": [
    "from sklearn.naive_bayes import GaussianNB\n",
    "\n",
    "model = GaussianNB()\n",
    "\n",
    "model.fit(x, y)\n",
    "\n",
    "pred = model.predict([[1, 1]])\n",
    "#Getting the probability of each class\n",
    "pred_proba = model.predict_proba([[1, 0]])\n",
    "print(pred)\n",
    "print(pred_proba)\n",
    "#Remove warnings\n",
    "import warnings\n",
    "warnings.filterwarnings('ignore')"
   ]
  },
  {
   "cell_type": "code",
   "execution_count": 83,
   "metadata": {},
   "outputs": [
    {
     "data": {
      "text/plain": [
       "0.8521437889662113"
      ]
     },
     "execution_count": 83,
     "metadata": {},
     "output_type": "execute_result"
    }
   ],
   "source": [
    "from math import exp\n",
    "1/exp(0.16)"
   ]
  }
 ],
 "metadata": {
  "kernelspec": {
   "display_name": "Python 3",
   "language": "python",
   "name": "python3"
  },
  "language_info": {
   "codemirror_mode": {
    "name": "ipython",
    "version": 3
   },
   "file_extension": ".py",
   "mimetype": "text/x-python",
   "name": "python",
   "nbconvert_exporter": "python",
   "pygments_lexer": "ipython3",
   "version": "3.11.1"
  },
  "orig_nbformat": 4
 },
 "nbformat": 4,
 "nbformat_minor": 2
}
